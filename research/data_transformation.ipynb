{
 "cells": [
  {
   "cell_type": "code",
   "execution_count": 1,
   "metadata": {},
   "outputs": [
    {
     "data": {
      "text/plain": [
       "'c:\\\\Users\\\\49179\\\\Desktop\\\\Food_image_classification\\\\research'"
      ]
     },
     "execution_count": 1,
     "metadata": {},
     "output_type": "execute_result"
    }
   ],
   "source": [
    "import os\n",
    "%pwd"
   ]
  },
  {
   "cell_type": "code",
   "execution_count": 2,
   "metadata": {},
   "outputs": [
    {
     "data": {
      "text/plain": [
       "'c:\\\\Users\\\\49179\\\\Desktop\\\\Food_image_classification'"
      ]
     },
     "execution_count": 2,
     "metadata": {},
     "output_type": "execute_result"
    }
   ],
   "source": [
    "os.chdir(\"../\")\n",
    "%pwd"
   ]
  },
  {
   "cell_type": "code",
   "execution_count": 3,
   "metadata": {},
   "outputs": [],
   "source": [
    "from dataclasses import dataclass\n",
    "from pathlib import Path\n",
    "from torch.utils.data import DataLoader\n",
    "@dataclass\n",
    "class DataTransformConfig:\n",
    "    root_dir: Path\n",
    "    train_dir: Path\n",
    "    test_dir: Path\n",
    "    color_transform: dict\n",
    "    spatial_transform: dict\n",
    "    data_loader_params: dict\n",
    "    normalize: dict\n",
    "    train_transforms_file: Path\n",
    "    test_transforms_file: Path\n"
   ]
  },
  {
   "cell_type": "code",
   "execution_count": 4,
   "metadata": {},
   "outputs": [],
   "source": [
    "from torch.utils.data import DataLoader\n",
    "\n",
    "from Food_Classification.constants import *\n",
    "from Food_Classification.utils.common import read_yaml, create_directory\n",
    "\n",
    "class ConfigurationManager:\n",
    "    def __init__(self, \n",
    "                config_file_path= CONFIG_FILE_PATH,\n",
    "                params_file_path = PARAMS_FILE_PATH):\n",
    "        self.config = read_yaml(config_file_path)\n",
    "        self.params = read_yaml(params_file_path)\n",
    "    \n",
    "        create_directory([self.config.artifacts_root])\n",
    "        \n",
    "    \n",
    "    def get_DataTransformConfig(self) -> DataTransformConfig:\n",
    "        config = self.config.data_transforms\n",
    "        create_directory([config.root_dir])\n",
    "        train_dir = os.path.join(self.config.data_ingestion.unzip_dir,'food_40_percent','train')\n",
    "        test_dir = os.path.join(self.config.data_ingestion.unzip_dir,'food_40_percent','test')\n",
    "        train_transformed_file = Path(config.TRAIN_TRANSFORMS_FILE)\n",
    "        test_transformed_file = Path(config.TEST_TRANSFORMS_FILE)\n",
    "\n",
    "        TransformationConfig = DataTransformConfig(root_dir= config.root_dir,\n",
    "                                                   train_dir=Path(train_dir),\n",
    "                                                   test_dir=Path(test_dir),\n",
    "                                                    train_transforms_file=train_transformed_file,\n",
    "                                                    test_transforms_file=test_transformed_file,\n",
    "                                                   color_transform={\"brightness\":BRIGHTNESS,\n",
    "                                                                    \"contrast\":CONTRAST,\n",
    "                                                                    \"saturation\":SATURATION,\n",
    "                                                                    \"hue\":HUE},\n",
    "                                                    spatial_transform= {'vertical_flip': VERTICLE_FLIP,\n",
    "                                                                        'resize': RESIZE,\n",
    "                                                                        'center_crop': CENTER_CROP,\n",
    "                                                                        'rotation': RANDOMROTATION\n",
    "                                                                        },\n",
    "                                                    normalize= {'mean': NORMALIZE_MEAN,\n",
    "                                                                'std': NORMALIZE_STD},\n",
    "                                                    data_loader_params={'batch_size': self.params.BATCH_SIZE,\n",
    "                                                                        'shuffle': self.params.SHUFFLE,\n",
    "                                                                        'num_workers': NUM_WORKERS,\n",
    "                                                                        'pin_memory': PIN_MEMORY,\n",
    "                                                                         })\n",
    "        return TransformationConfig\n"
   ]
  },
  {
   "cell_type": "code",
   "execution_count": 13,
   "metadata": {},
   "outputs": [
    {
     "name": "stdout",
     "output_type": "stream",
     "text": [
      "Overwriting src\\Food_Classification\\components\\data_transformation.py\n"
     ]
    }
   ],
   "source": [
    "%%writefile src\\Food_Classification\\components\\data_transformation.py\n",
    "from Food_Classification.config.configuration import ConfigurationManager\n",
    "from Food_Classification.entity.config_entity import DataTransformConfig\n",
    "from torchvision import transforms\n",
    "from torch.utils.data import DataLoader\n",
    "from torchvision.datasets import ImageFolder\n",
    "from Food_Classification.entity.artifact_entity import DataTransformationArtifact\n",
    "from Food_Classification import logger\n",
    "from typing import Tuple\n",
    "import joblib\n",
    "import os\n",
    "\n",
    "class DataTransformation:\n",
    "    def __init__(self,config: DataTransformConfig):\n",
    "        self.config = config\n",
    "\n",
    "    def train_data_transform(self):\n",
    "        try:\n",
    "            logger.info(\"Data Transformation started\")\n",
    "            train_transforms: transforms.Compose = transforms.Compose([transforms.Resize(self.config.spatial_transform['resize']),\n",
    "                                                                      transforms.CenterCrop(self.config.spatial_transform['center_crop']),\n",
    "                                                                      transforms.RandomRotation(self.config.spatial_transform['rotation']),\n",
    "                                                                      transforms.RandomVerticalFlip(self.config.spatial_transform['vertical_flip']),\n",
    "                                                                      transforms.ColorJitter(**self.config.color_transform),\n",
    "                                                                      transforms.ToTensor(),\n",
    "                                                                      transforms.Normalize(**self.config.normalize)])\n",
    "\n",
    "        \n",
    "            return train_transforms\n",
    "        except Exception as e:\n",
    "            raise e\n",
    "    \n",
    "    def test_data_transform(self):\n",
    "        try:\n",
    "            test_transforms: transforms.Compose = transforms.Compose([transforms.Resize(self.config.spatial_transform['resize']),\n",
    "                                                                    transforms.CenterCrop(self.config.spatial_transform['center_crop']),\n",
    "                                                                    transforms.ToTensor(),\n",
    "                                                                    transforms.Normalize(**self.config.normalize)])\n",
    "\n",
    "            return test_transforms\n",
    "        except Exception as e:\n",
    "            raise e\n",
    "    \n",
    "\n",
    "    def create_dataloaders(self, train_data:transforms.Compose, test_data: transforms.Compose) -> Tuple[DataLoader, DataLoader]:\n",
    "        try:\n",
    "            logger.info(\"Data Loading started\")\n",
    "            train_dataset = ImageFolder(root= self.config.train_dir,\n",
    "                                        transform=train_data)\n",
    "            \n",
    "            test_dataset = ImageFolder(root=self.config.test_dir,\n",
    "                                    transform=test_data)\n",
    "            \n",
    "\n",
    "            train_dataloader = DataLoader(train_dataset, **self.config.data_loader_params)\n",
    "\n",
    "            test_dataloader = DataLoader(test_dataset, **self.config.data_loader_params)\n",
    "\n",
    "            return train_dataloader, test_dataloader\n",
    "        except Exception as e:\n",
    "            raise e\n",
    "    \n",
    "    def initiate_datatransfrom(self) -> DataTransformationArtifact:\n",
    "        try:\n",
    "            train_transforms: transforms.Compose = self.train_data_transform()\n",
    "            test_transforms: transforms.Compose = self.test_data_transform()\n",
    "\n",
    "            joblib.dump(train_transforms, self.config.train_transforms_file)\n",
    "            joblib.dump(test_transforms, self.config.test_transforms_file)\n",
    "            logger.info(\"transform pickle file created\")\n",
    "\n",
    "            train_dataloader, test_dataloader = self.create_dataloaders(train_transforms, test_transforms)\n",
    "\n",
    "            transforms_artifact: DataTransformationArtifact = DataTransformationArtifact(transformed_train_object= train_dataloader,\n",
    "                                                                                         transformed_test_object= test_dataloader,\n",
    "                                                                                         trained_transformed_file= self.config.train_transforms_file,\n",
    "                                                                                         test_transformed_file= self.config.test_transforms_file)\n",
    "            logger.info(\"Data Transformation completed\")\n",
    "            return transforms_artifact\n",
    "        except Exception as e:\n",
    "            raise e\n"
   ]
  },
  {
   "cell_type": "code",
   "execution_count": 10,
   "metadata": {},
   "outputs": [
    {
     "name": "stdout",
     "output_type": "stream",
     "text": [
      "[2024-05-13 23:59:38,941: INFO: common: yaml file config\\config.yaml loaded successfully]\n",
      "[2024-05-13 23:59:38,943: INFO: common: yaml file params.yaml loaded successfully]\n",
      "[2024-05-13 23:59:38,944: INFO: common: directory artifacts created successfully]\n",
      "[2024-05-13 23:59:38,945: INFO: common: directory artifacts/data_transforms created successfully]\n"
     ]
    }
   ],
   "source": [
    "config = ConfigurationManager()\n",
    "tran = config.get_DataTransformConfig()\n",
    "transfom = DataTransformation(tran)\n",
    "transfom_artifact = transfom.initiate_datatransfrom()"
   ]
  },
  {
   "cell_type": "code",
   "execution_count": 11,
   "metadata": {},
   "outputs": [
    {
     "data": {
      "text/plain": [
       "DataTransformationArtifact(transformed_train_object=<torch.utils.data.dataloader.DataLoader object at 0x000001E70D5EC460>, transformed_test_object=<torch.utils.data.dataloader.DataLoader object at 0x000001E70D5ECFD0>, trained_transformed_file=WindowsPath('artifacts/data_transforms/train_transforms.pkl'), test_transformed_file=WindowsPath('artifacts/data_transforms/test_transforms.pkl'))"
      ]
     },
     "execution_count": 11,
     "metadata": {},
     "output_type": "execute_result"
    }
   ],
   "source": [
    "transfom_artifact"
   ]
  }
 ],
 "metadata": {
  "kernelspec": {
   "display_name": "Food",
   "language": "python",
   "name": "python3"
  },
  "language_info": {
   "codemirror_mode": {
    "name": "ipython",
    "version": 3
   },
   "file_extension": ".py",
   "mimetype": "text/x-python",
   "name": "python",
   "nbconvert_exporter": "python",
   "pygments_lexer": "ipython3",
   "version": "3.8.0"
  }
 },
 "nbformat": 4,
 "nbformat_minor": 2
}
