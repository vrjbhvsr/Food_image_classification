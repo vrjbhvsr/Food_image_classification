{
 "cells": [
  {
   "cell_type": "code",
   "execution_count": 1,
   "metadata": {},
   "outputs": [],
   "source": [
    "import os"
   ]
  },
  {
   "cell_type": "code",
   "execution_count": 2,
   "metadata": {},
   "outputs": [
    {
     "data": {
      "text/plain": [
       "'c:\\\\Users\\\\49179\\\\Desktop\\\\Food_image_classification\\\\research'"
      ]
     },
     "execution_count": 2,
     "metadata": {},
     "output_type": "execute_result"
    }
   ],
   "source": [
    "%pwd"
   ]
  },
  {
   "cell_type": "code",
   "execution_count": 3,
   "metadata": {},
   "outputs": [],
   "source": [
    "os.chdir('../')"
   ]
  },
  {
   "cell_type": "code",
   "execution_count": 4,
   "metadata": {},
   "outputs": [
    {
     "data": {
      "text/plain": [
       "'c:\\\\Users\\\\49179\\\\Desktop\\\\Food_image_classification'"
      ]
     },
     "execution_count": 4,
     "metadata": {},
     "output_type": "execute_result"
    }
   ],
   "source": [
    "%pwd"
   ]
  },
  {
   "cell_type": "code",
   "execution_count": 15,
   "metadata": {},
   "outputs": [
    {
     "name": "stdout",
     "output_type": "stream",
     "text": [
      "Overwriting src\\Food_Classification\\entity\\config_entity.py\n"
     ]
    }
   ],
   "source": [
    "%%writefile src\\Food_Classification\\entity\\config_entity.py\n",
    "from dataclasses import dataclass\n",
    "from pathlib import Path\n",
    "\n",
    "@dataclass(frozen=True)\n",
    "class DataIngestionConfig:\n",
    "    root_dir: Path\n",
    "    source_URL: str\n",
    "    local_data_file: Path\n",
    "    unzip_dir: Path"
   ]
  },
  {
   "cell_type": "code",
   "execution_count": 16,
   "metadata": {},
   "outputs": [
    {
     "name": "stdout",
     "output_type": "stream",
     "text": [
      "Overwriting src\\Food_Classification\\config\\configuration.py\n"
     ]
    }
   ],
   "source": [
    "%%writefile src\\Food_Classification\\config\\configuration.py\n",
    "from Food_Classification.constants import *\n",
    "from Food_Classification.utils.common import read_yaml,create_directory\n",
    "from Food_Classification.entity.config_entity import DataIngestionConfig\n",
    "\n",
    "class ConfigurationManager:\n",
    "    def __init__(self,\n",
    "                 config_file_path = CONFIG_FILE_PATH,\n",
    "                 params_file_path = PARAMS_FILE_PATH):\n",
    "        \n",
    "        self.config = read_yaml(CONFIG_FILE_PATH)\n",
    "        self.params = read_yaml(PARAMS_FILE_PATH)\n",
    "\n",
    "        create_directory([self.config.artifacts_root])\n",
    "\n",
    "    def get_data_ingestion_config(self) -> DataIngestionConfig:\n",
    "            config = self.config.data_ingestion\n",
    "\n",
    "            create_directory([config.root_dir])\n",
    "\n",
    "            data_ingestion_config = DataIngestionConfig(\n",
    "                root_dir= config.root_dir,\n",
    "                source_URL= config.source_url,\n",
    "                local_data_file=config.local_data_file,\n",
    "                unzip_dir=config.unzip_dir)\n",
    "            \n",
    "            return data_ingestion_config\n",
    "        "
   ]
  },
  {
   "cell_type": "code",
   "execution_count": 19,
   "metadata": {},
   "outputs": [
    {
     "name": "stdout",
     "output_type": "stream",
     "text": [
      "Writing src\\Food_Classification\\components\\data_ingestion.py\n"
     ]
    }
   ],
   "source": [
    "%%writefile src\\Food_Classification\\components\\data_ingestion.py\n",
    "import os \n",
    "from pathlib import Path\n",
    "import zipfile\n",
    "from Food_Classification import logger\n",
    "from Food_Classification.utils.common import get_size\n",
    "from Food_Classification.entity.config_entity import DataIngestionConfig\n",
    "import gdown\n",
    "\n",
    "\n",
    "class DataIngestion:\n",
    "    def __init__(self,config: DataIngestionConfig):\n",
    "        self.config=config\n",
    "        \n",
    "    def download_file(self):\n",
    "        data_url = self.config.source_URL\n",
    "        if not os.path.exists(self.config.local_data_file):\n",
    "            file_id = data_url.split('/')[-2]\n",
    "            prefix = \"https://drive.google.com/uc?export=download&id=\"\n",
    "            gdown.download(prefix + file_id, self.config.local_data_file)\n",
    "            logger.info(f\"Downloaded {self.config.local_data_file}\")\n",
    "\n",
    "        else:\n",
    "            logger.info(f\"{self.config.local_data_file} already exists of size : {get_size(Path(self.config.local_data_file))}\")\n",
    "\n",
    "    \n",
    "    def unzip_file(self):\n",
    "        \"\"\"\n",
    "        Unzips the downloaded file.\n",
    "        Extracts all the files from the zip file into the unzip directory.\n",
    "        \"\"\"\n",
    "\n",
    "        unzip_dir = self.config.unzip_dir\n",
    "        with zipfile.ZipFile(self.config.local_data_file,'r') as zip_ref:\n",
    "            zip_ref.extractall(unzip_dir)\n",
    "\n",
    "            \n"
   ]
  },
  {
   "cell_type": "code",
   "execution_count": 20,
   "metadata": {},
   "outputs": [
    {
     "name": "stdout",
     "output_type": "stream",
     "text": [
      "Writing src\\Food_Classification\\pipeline\\stage_1_data_ingestion.py\n"
     ]
    }
   ],
   "source": [
    "%%writefile src\\Food_Classification\\pipeline\\stage_1_data_ingestion.py\n",
    "from Food_Classification.config.configuration import ConfigurationManager\n",
    "from Food_Classification.components.data_ingestion import DataIngestion\n",
    "from Food_Classification import logger\n",
    "\n",
    "STAGE_NAME = \"Data Ingestion stage\"\n",
    "\n",
    "class DataIngestionTrainingPipeline:\n",
    "    def __init__(self):\n",
    "        pass\n",
    "\n",
    "    def main(self):\n",
    "        try:\n",
    "            config = ConfigurationManager()\n",
    "            data_ingestion_config = config.get_data_ingestion_config()\n",
    "            data_ingestion = DataIngestion(config = data_ingestion_config)\n",
    "            data_ingestion.download_file()\n",
    "            data_ingestion.unzip_file()\n",
    "        except Exception as e:\n",
    "            raise e\n",
    "        \n",
    "\n",
    "if __name__ == \"__main__\":\n",
    "    try:\n",
    "        logger.info(f\">>>>>>> stage : {STAGE_NAME} <<<<<<<<\")\n",
    "        obj = DataIngestionTrainingPipeline()\n",
    "        obj.main()\n",
    "        logger.info(f\">>>>>>> stage : {STAGE_NAME} completed <<<<<<<< \\n\\nx========x\")\n",
    "\n",
    "    except Exception as e:\n",
    "        logger.exception(e)\n",
    "        raise e"
   ]
  },
  {
   "cell_type": "code",
   "execution_count": null,
   "metadata": {},
   "outputs": [],
   "source": []
  }
 ],
 "metadata": {
  "kernelspec": {
   "display_name": "Food",
   "language": "python",
   "name": "python3"
  },
  "language_info": {
   "codemirror_mode": {
    "name": "ipython",
    "version": 3
   },
   "file_extension": ".py",
   "mimetype": "text/x-python",
   "name": "python",
   "nbconvert_exporter": "python",
   "pygments_lexer": "ipython3",
   "version": "3.8.0"
  }
 },
 "nbformat": 4,
 "nbformat_minor": 2
}
