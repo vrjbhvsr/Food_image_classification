{
 "cells": [
  {
   "cell_type": "code",
   "execution_count": 1,
   "metadata": {},
   "outputs": [
    {
     "data": {
      "text/plain": [
       "'c:\\\\Users\\\\49179\\\\Desktop\\\\Food_image_classification\\\\research'"
      ]
     },
     "execution_count": 1,
     "metadata": {},
     "output_type": "execute_result"
    }
   ],
   "source": [
    "import os\n",
    "%pwd"
   ]
  },
  {
   "cell_type": "code",
   "execution_count": 2,
   "metadata": {},
   "outputs": [
    {
     "data": {
      "text/plain": [
       "'c:\\\\Users\\\\49179\\\\Desktop\\\\Food_image_classification'"
      ]
     },
     "execution_count": 2,
     "metadata": {},
     "output_type": "execute_result"
    }
   ],
   "source": [
    "os.chdir(\"../\")\n",
    "\n",
    "os.getcwd()"
   ]
  },
  {
   "cell_type": "code",
   "execution_count": 6,
   "metadata": {},
   "outputs": [],
   "source": [
    "from dataclasses import dataclass\n",
    "from pathlib import Path\n",
    "\n",
    "@dataclass\n",
    "class training_config:\n",
    "    root_dir: Path\n",
    "    trained_model_path= Path\n",
    "    updated_models_path =Path \n",
    "    training_data: Path\n",
    "    param_epochs: int\n",
    "    param_image_size: list\n",
    "    param_batch_size: int\n",
    "    param_model_name: str"
   ]
  },
  {
   "cell_type": "code",
   "execution_count": 7,
   "metadata": {},
   "outputs": [],
   "source": [
    "from Food_Classification.utils.common import read_yaml, create_directory\n",
    "from Food_Classification.constants import *\n",
    "\n",
    "def configurationmanager():\n",
    "    def __init__(self, config_file_path = CONFIG_FILE_PATH,\n",
    "                 params_file_path = PARAMS_FILE_PATH):\n",
    "        \n",
    "        self.config = read_yaml(config_file_path)\n",
    "        self.params = read_yaml(params_file_path)\n",
    "        create_directory([self.config.artifacts_root])\n",
    "\n",
    "def get_training_config(self) -> training_config:\n",
    "    config = self.config\n",
    "    training = config.training\n",
    "    prepare_base_model = config.prepare_base_model\n",
    "    updated_base_model = prepare_base_model.updated_base_model\n",
    "    training_data = os.path.join(config.data_ingestion.unzip_dir,\"food_40_percent\")\n",
    "    create_directory([config.root_dir])\n",
    "\n",
    "    training_configuration = training_config(root_dir= config.root_dir,\n",
    "                                             trained_model_path = training.trained_model_path,\n",
    "                                             upadted_models_path = updated_base_model,\n",
    "                                             training_data = Path(training_data),\n",
    "                                             param_batch_size= self.params.BATCH_SIZE,\n",
    "                                             param_epochs=self.params.EPOCHS,\n",
    "                                             param_image_size= self.params.IMAGE_SIZE,\n",
    "                                             param_model_name=self.params.MODEL_NAME)\n",
    "\n",
    "    return training_configuration\n",
    "\n"
   ]
  },
  {
   "cell_type": "code",
   "execution_count": null,
   "metadata": {},
   "outputs": [],
   "source": []
  }
 ],
 "metadata": {
  "kernelspec": {
   "display_name": "Food",
   "language": "python",
   "name": "python3"
  },
  "language_info": {
   "codemirror_mode": {
    "name": "ipython",
    "version": 3
   },
   "file_extension": ".py",
   "mimetype": "text/x-python",
   "name": "python",
   "nbconvert_exporter": "python",
   "pygments_lexer": "ipython3",
   "version": "3.8.0"
  }
 },
 "nbformat": 4,
 "nbformat_minor": 2
}
