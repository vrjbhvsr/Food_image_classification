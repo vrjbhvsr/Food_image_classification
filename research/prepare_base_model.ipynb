{
 "cells": [
  {
   "cell_type": "code",
   "execution_count": 1,
   "metadata": {},
   "outputs": [],
   "source": [
    "import os"
   ]
  },
  {
   "cell_type": "code",
   "execution_count": 2,
   "metadata": {},
   "outputs": [
    {
     "data": {
      "text/plain": [
       "'c:\\\\Users\\\\49179\\\\Desktop\\\\Food_image_classification\\\\research'"
      ]
     },
     "execution_count": 2,
     "metadata": {},
     "output_type": "execute_result"
    }
   ],
   "source": [
    "%pwd"
   ]
  },
  {
   "cell_type": "code",
   "execution_count": 3,
   "metadata": {},
   "outputs": [],
   "source": [
    "os.chdir(\"../\")"
   ]
  },
  {
   "cell_type": "code",
   "execution_count": 4,
   "metadata": {},
   "outputs": [
    {
     "data": {
      "text/plain": [
       "'c:\\\\Users\\\\49179\\\\Desktop\\\\Food_image_classification'"
      ]
     },
     "execution_count": 4,
     "metadata": {},
     "output_type": "execute_result"
    }
   ],
   "source": [
    "%pwd"
   ]
  },
  {
   "cell_type": "code",
   "execution_count": 5,
   "metadata": {},
   "outputs": [],
   "source": [
    "import torch"
   ]
  },
  {
   "cell_type": "code",
   "execution_count": 6,
   "metadata": {},
   "outputs": [
    {
     "data": {
      "text/plain": [
       "'cuda'"
      ]
     },
     "execution_count": 6,
     "metadata": {},
     "output_type": "execute_result"
    }
   ],
   "source": [
    "'cuda' if torch.cuda.is_available() else 'cpu'"
   ]
  },
  {
   "cell_type": "code",
   "execution_count": 7,
   "metadata": {},
   "outputs": [],
   "source": [
    "#Update the entity\n",
    "from dataclasses import dataclass\n",
    "from pathlib import Path\n",
    "\n",
    "@dataclass(frozen=True)\n",
    "class PrepareBasemodelConfig:\n",
    "    root_dir: Path\n",
    "    base_model_dir: Path\n",
    "    updated_base_model: Path\n",
    "    params_image_size: list\n",
    "    params_device: str\n",
    "    params_weight: str\n",
    "    params_classes: int"
   ]
  },
  {
   "cell_type": "code",
   "execution_count": 8,
   "metadata": {},
   "outputs": [],
   "source": [
    "# updating the configuration mnanager in src\n",
    "from Food_Classification.utils.common import read_yaml,create_directory\n",
    "from Food_Classification.constants import *\n",
    "\n",
    "\n",
    "class ConfigurationManager:\n",
    "    def __init__(self,\n",
    "                 config_file_path= CONFIG_FILE_PATH,\n",
    "                 params_file_path= PARAMS_FILE_PATH):\n",
    "        self.config = read_yaml(config_file_path)\n",
    "        self.params = read_yaml(params_file_path)\n",
    "\n",
    "        create_directory([self.config.artifacts_root])\n",
    "    def get_base_model_config(self) -> PrepareBasemodelConfig:\n",
    "        config = self.config.prepare_base_model\n",
    "        params = self.params\n",
    "\n",
    "        create_directory([config.root_dir])\n",
    "\n",
    "        prepare_base_model_cofig = PrepareBasemodelConfig(\n",
    "                                                        root_dir= Path(config.root_dir),\n",
    "                                                        base_model_dir= Path(config.base_model_path),\n",
    "                                                        updated_base_model= Path(config.updated_base_model),\n",
    "                                                        params_image_size=  params.IMAGE_SIZE,\n",
    "                                                        params_device= params.DEVICE,\n",
    "                                                        params_weight= params.WEIGHTS,\n",
    "                                                        params_classes= params.CLASSES)\n",
    "        \n",
    "        return prepare_base_model_cofig\n"
   ]
  },
  {
   "cell_type": "code",
   "execution_count": 13,
   "metadata": {},
   "outputs": [
    {
     "name": "stdout",
     "output_type": "stream",
     "text": [
      "Writing src/Food_Classification/components/prepare_base_model.py\n"
     ]
    }
   ],
   "source": [
    "%%writefile src/Food_Classification/components/prepare_base_model.py\n",
    "import torch\n",
    "import torchvision\n",
    "from torchinfo import summary\n",
    "from Food_Classification.config.configuration import PrepareBasemodelConfig \n",
    "from pathlib import Path\n",
    "\n",
    "class PrepareBaseModel:\n",
    "    def __init__(self,config: PrepareBasemodelConfig):\n",
    "        self.config = config\n",
    "\n",
    "    def get_base_model(self):\n",
    "        self.base_model = torchvision.models.efficientnet_b4(weights= self.config.params_weight).to(self.config.params_device)\n",
    "        torch.save(self.base_model, self.config.base_model_dir)\n",
    "\n",
    "    @staticmethod\n",
    "    def preparebasemodel(model, classes, freeze:bool):\n",
    "        if freeze:\n",
    "            for param in model.parameters():\n",
    "                param.requires_grad = False\n",
    "        \n",
    "        model = model\n",
    "        model.classifier = torch.nn.Sequential(\n",
    "            torch.nn.Dropout(p=model.classifier[0].p),\n",
    "            torch.nn.Linear(in_features=model.classifier[1].in_features, \n",
    "                            out_features=classes)\n",
    "        )\n",
    "\n",
    "        info = summary(model= model,input_size=(1,3,224,224),\n",
    "        col_names=['input_size', 'output_size', 'num_params', \"trainable\"],\n",
    "        col_width=20,\n",
    "        row_settings=[\"var_names\"])\n",
    "        return model, info\n",
    "\n",
    "    def update_base_model(self):\n",
    "        self.model = self.preparebasemodel(model= self.base_model, \n",
    "        classes= self.config.params_classes,\n",
    "        freeze = True)\n",
    "        torch.save(self.model, self.config.updated_base_model)\n",
    "\n",
    "    @staticmethod\n",
    "    def save_model(path:Path, model: torch.nn.Module):\n",
    "        torch.save(model, path)"
   ]
  },
  {
   "cell_type": "code",
   "execution_count": 16,
   "metadata": {},
   "outputs": [
    {
     "name": "stdout",
     "output_type": "stream",
     "text": [
      "Writing src/Food_Classification/pipeline/stage_2_prepare_base_model.py\n"
     ]
    }
   ],
   "source": [
    "%%writefile src/Food_Classification/pipeline/stage_2_prepare_base_model.py\n",
    "from Food_Classification.config.configuration import ConfigurationManager\n",
    "from Food_Classification.components.prepare_base_model import PrepareBaseModel\n",
    "from Food_Classification import logger\n",
    "\n",
    "STAGE_NAME = \"Prepare Base Model\"\n",
    "\n",
    "class PreapareBaseModelTrainingPipeline:\n",
    "    def __init__(self):\n",
    "        pass\n",
    "\n",
    "    def main(self):\n",
    "        try:\n",
    "            config = ConfigurationManager()\n",
    "            prepare_base_model_config = config.get_base_model_config()\n",
    "            prepare_base_model = PrepareBaseModel(config=prepare_base_model_config)\n",
    "            prepare_base_model.get_base_model()\n",
    "            prepare_base_model.update_base_model()\n",
    "        except Exception as e:\n",
    "            raise e\n",
    "        \n",
    "\n",
    "if __name__ == \"__main__\":\n",
    "    try:\n",
    "        logger.info(f\">>>>>>> stage : {STAGE_NAME} <<<<<<<<\")\n",
    "        Preapare_base_model = PreapareBaseModelTrainingPipeline()\n",
    "        Preapare_base_model.main()\n",
    "        logger.info(f\">>>>>>> stage : {STAGE_NAME} completed <<<<<<<< \\n\\nx========x\")\n",
    "\n",
    "    except Exception as e:\n",
    "        logger.exception(e)\n",
    "        raise e"
   ]
  },
  {
   "cell_type": "code",
   "execution_count": 14,
   "metadata": {},
   "outputs": [
    {
     "name": "stdout",
     "output_type": "stream",
     "text": [
      "[2024-05-02 10:34:43,916: INFO: common: yaml file config\\config.yaml loaded successfully]\n",
      "[2024-05-02 10:34:43,919: INFO: common: yaml file params.yaml loaded successfully]\n",
      "[2024-05-02 10:34:43,921: INFO: common: directory artifacts created successfully]\n",
      "[2024-05-02 10:34:43,921: INFO: common: directory artifacts/prepare_base_model created successfully]\n"
     ]
    }
   ],
   "source": [
    "try:\n",
    "    config = ConfigurationManager()\n",
    "    prepare_base_model_config = config.get_base_model_config()\n",
    "    prepare_base_model = PrepareBaseModel(config=prepare_base_model_config)\n",
    "    prepare_base_model.get_base_model()\n",
    "    prepare_base_model.update_base_model()\n",
    "except Exception as e:\n",
    "    raise e"
   ]
  },
  {
   "cell_type": "code",
   "execution_count": null,
   "metadata": {},
   "outputs": [],
   "source": []
  }
 ],
 "metadata": {
  "kernelspec": {
   "display_name": "Food",
   "language": "python",
   "name": "python3"
  },
  "language_info": {
   "codemirror_mode": {
    "name": "ipython",
    "version": 3
   },
   "file_extension": ".py",
   "mimetype": "text/x-python",
   "name": "python",
   "nbconvert_exporter": "python",
   "pygments_lexer": "ipython3",
   "version": "3.8.0"
  }
 },
 "nbformat": 4,
 "nbformat_minor": 2
}
