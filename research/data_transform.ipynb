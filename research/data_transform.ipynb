{
 "cells": [
  {
   "cell_type": "code",
   "execution_count": 1,
   "metadata": {},
   "outputs": [
    {
     "data": {
      "text/plain": [
       "'c:\\\\Users\\\\49179\\\\Desktop\\\\Food_image_classification\\\\research'"
      ]
     },
     "execution_count": 1,
     "metadata": {},
     "output_type": "execute_result"
    }
   ],
   "source": [
    "import os\n",
    "%pwd"
   ]
  },
  {
   "cell_type": "code",
   "execution_count": 2,
   "metadata": {},
   "outputs": [],
   "source": [
    "os.chdir(\"../\")"
   ]
  },
  {
   "cell_type": "code",
   "execution_count": 3,
   "metadata": {},
   "outputs": [
    {
     "data": {
      "text/plain": [
       "'c:\\\\Users\\\\49179\\\\Desktop\\\\Food_image_classification'"
      ]
     },
     "execution_count": 3,
     "metadata": {},
     "output_type": "execute_result"
    }
   ],
   "source": [
    "%pwd"
   ]
  },
  {
   "cell_type": "code",
   "execution_count": 4,
   "metadata": {},
   "outputs": [],
   "source": [
    "from dataclasses import dataclass\n",
    "from pathlib import Path\n",
    "from torch.utils.data import DataLoader\n",
    "\n",
    "@dataclass\n",
    "class data_transformation_config:\n",
    "    root_dir: Path\n",
    "    train_dir: Path\n",
    "    test_dir: Path\n",
    "    train_transform_pkl: Path\n",
    "    test_transform_pkl: Path\n",
    "    transformed_train_data: DataLoader\n",
    "    transformed_test_data: DataLoader\n",
    "    batch_size: int\n",
    "    shuffle: bool\n",
    "    color_transform: dict\n",
    "    spatial_transform: dict\n",
    "    normalize_transform: dict\n",
    "    data_loader_params: dict\n",
    "    "
   ]
  },
  {
   "cell_type": "code",
   "execution_count": 5,
   "metadata": {},
   "outputs": [],
   "source": [
    "from Food_Classification.utils.common import read_yaml, create_directory\n",
    "from Food_Classification.constants import *\n",
    "#from Food_Classification.entity.config_entity import data_transformation_config\n",
    "class ConfigurationManager:\n",
    "    def __init__(self,\n",
    "                 config_file_path = CONFIG_FILE_PATH,\n",
    "                 params_file_path = PARAMS_FILE_PATH):\n",
    "        \n",
    "        self.config = read_yaml(config_file_path)\n",
    "        self.params = read_yaml(params_file_path)   \n",
    "        create_directory([self.config.artifacts_root])\n",
    "        \n",
    "        def get_data_transform_config(self) -> data_transformation_config:\n",
    "            config = self.config.data_transform\n",
    "            create_directory([config.root_dir])\n",
    "            data_transformation_configuration = data_transformation_config(root_dir= config.root_dir,\n",
    "                                                            train_dir= Path(config.train_dir),\n",
    "                                                            test_dir= Path(config.test_dir),\n",
    "                                                             train_transform_pkl= Path(config.train_transform_pkl),\n",
    "                                                             test_transform_pkl= Path(config.test_transform_pkl),\n",
    "                                                             transformed_train_data= None,\n",
    "                                                             transformed_test_data= None,\n",
    "                                                             batch_size= config.BATCH_SIZE,\n",
    "                                                             shuffle= config.SHUFFLE,\n",
    "                                                             color_transform ={'brightness': BRIGHTNESS,\n",
    "                                                                                    'contrast': CONTRAST,\n",
    "                                                                                    'saturation': SATURATION,\n",
    "                                                                                    'hue': HUE},\n",
    "                                                             spatial_transform= {'vertical_flip': VERTICLE_FLIP,\n",
    "                                                                                'resize': RESIZE,\n",
    "                                                                                'center_crop': CENTER_CROP,\n",
    "                                                                                'rotation': RANDOMROTATION,\n",
    "                                                                                'zoom': RANDOMZOOM},\n",
    "                                                             normalize_transform= {'mean': NORMALIZE_MEAN,\n",
    "                                                                                    'std': NORMALIZE_STD},\n",
    "                                                             data_loader_params= {\"num_workers\": NUM_WORKERS,\n",
    "                                                                                    \"pin_memory\": PIN_MEMORY})\n",
    "            \n",
    "            return data_transformation_configuration\n",
    "        \n"
   ]
  },
  {
   "cell_type": "code",
   "execution_count": 12,
   "metadata": {},
   "outputs": [],
   "source": [
    "import os\n",
    "from typing import Tuple\n",
    "import joblib\n",
    "from torch.utils.data import DataLoader, Dataset\n",
    "from torchvision.datasets import ImageFolder\n",
    "from torchvision.transforms import transforms\n",
    "from Food_Classification import logger\n",
    "#from Food_Classification.config.configuration import ConfigurationManager\n",
    "\n",
    "class data_transformation:\n",
    "    def __init__(self, config: data_transformation_config):\n",
    "        self.config = config\n",
    "\n",
    "    def tranform_train_data(self) -> transforms.Compose:\n",
    "        try: \n",
    "            logger.info(\"Transforming train data\")\n",
    "            train_transform: transforms.Compose = transforms.Compose([transforms.Resize(self.config.spatial_transform['resize']),\n",
    "                                                                      transforms.center_crop(self.config.spatial_transform['center_crop']),\n",
    "                                                                      transforms.RandomZoom(self.config.spatial_transform['zoom']),\n",
    "                                                                      transforms.RandomRotation(self.config.spatial_transform['rotation']),\n",
    "                                                                      transforms.VerticalFlip(self.config.spatial_transform['vertical_flip']),\n",
    "                                                                      transforms.ColorJitter(**self.config.color_transform),\n",
    "                                                                      transforms.ToTensor(),\n",
    "                                                                      transforms.Normalize(**self.config.normalize_transform)])\n",
    "            \n",
    "\n",
    "            return train_transform\n",
    "        except Exception as e:\n",
    "            raise e\n",
    "        \n",
    "    def test_transform(self) -> transforms.Compose:\n",
    "        try:\n",
    "            logger.info(\"Transforming test data\")\n",
    "            test_transform: transforms.Compose = transforms.Compose([transforms.Resize(self.config.spatial_transform['resize']),\n",
    "                                                                      transforms.center_crop(self.config.spatial_transform['center_crop']),\n",
    "                                                                      transforms.ToTensor(),\n",
    "                                                                      transforms.Normalize(**self.config.normalize_transform)])\n",
    "\n",
    "            return test_transform\n",
    "        \n",
    "        except Exception as e:\n",
    "            raise e\n",
    "\n",
    "\n",
    "    def create_dataloaders(self) -> Tuple[DataLoader, DataLoader]:\n",
    "        try:\n",
    "            logger.info(\"creating_dataloaders\")\n",
    "\n",
    "            train_data: Dataset = ImageFolder(root =self.config.train_dir, \n",
    "                                              transform= self.tranform_train_data)\n",
    "\n",
    "            test_data: Dataset = ImageFolder(root= self.config.test_dir, \n",
    "                                             transform = self.test_transform)\n",
    "            \n",
    "            class_names: list = train_data.classes\n",
    "\n",
    "            train_dataloader: DataLoader = DataLoader(dataset= train_data,\n",
    "                                                      batch_size= self.config.batch_size,\n",
    "                                                      shuffle = self.config.shuffle,\n",
    "                                                      num_workers = self.config.num_workers,\n",
    "                                                      pin_memory = self.config.pin_memory)\n",
    "            \n",
    "            test_dataloader: DataLoader = DataLoader(dataset= test_data,\n",
    "                                                      batch_size= self.config.batch_size,\n",
    "                                                      shuffle = False,\n",
    "                                                      num_workers = self.config.num_workers)\n",
    "            \n",
    "            logger.info('DataLoaders created')\n",
    "            return train_dataloader, test_dataloader, class_names\n",
    "        \n",
    "        except Exception as e:\n",
    "            raise e\n",
    "    \n",
    "        \n",
    "    def initiate_data_transformation(self):\n",
    "        try:\n",
    "            logger.info(\"Initiating data transformation\")\n",
    "\n",
    "            train_transform: transforms.Compose = self.transform_train_data()\n",
    "\n",
    "            test_transform: transforms.Compose = self.test_transform()\n",
    "\n",
    "            create_dire\n",
    "\n",
    "            \n",
    "\n",
    "            \n",
    "\n",
    "\n",
    "\n",
    "            \n",
    "\n"
   ]
  },
  {
   "cell_type": "code",
   "execution_count": null,
   "metadata": {},
   "outputs": [
    {
     "name": "stdout",
     "output_type": "stream",
     "text": [
      "Note: you may need to restart the kernel to use updated packages.\n"
     ]
    },
    {
     "name": "stderr",
     "output_type": "stream",
     "text": [
      "ERROR: Invalid requirement: 'torch,'\n"
     ]
    }
   ],
   "source": []
  },
  {
   "cell_type": "code",
   "execution_count": null,
   "metadata": {},
   "outputs": [],
   "source": []
  }
 ],
 "metadata": {
  "kernelspec": {
   "display_name": "Food",
   "language": "python",
   "name": "python3"
  },
  "language_info": {
   "codemirror_mode": {
    "name": "ipython",
    "version": 3
   },
   "file_extension": ".py",
   "mimetype": "text/x-python",
   "name": "python",
   "nbconvert_exporter": "python",
   "pygments_lexer": "ipython3",
   "version": "3.8.0"
  }
 },
 "nbformat": 4,
 "nbformat_minor": 2
}
