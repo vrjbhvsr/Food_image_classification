{
 "cells": [
  {
   "cell_type": "code",
   "execution_count": 1,
   "metadata": {},
   "outputs": [
    {
     "data": {
      "text/plain": [
       "'c:\\\\Users\\\\49179\\\\Desktop\\\\Food_image_classification\\\\research'"
      ]
     },
     "execution_count": 1,
     "metadata": {},
     "output_type": "execute_result"
    }
   ],
   "source": [
    "import os\n",
    "%pwd"
   ]
  },
  {
   "cell_type": "code",
   "execution_count": 2,
   "metadata": {},
   "outputs": [],
   "source": [
    "os.chdir(\"../\")"
   ]
  },
  {
   "cell_type": "code",
   "execution_count": 3,
   "metadata": {},
   "outputs": [
    {
     "data": {
      "text/plain": [
       "'c:\\\\Users\\\\49179\\\\Desktop\\\\Food_image_classification'"
      ]
     },
     "execution_count": 3,
     "metadata": {},
     "output_type": "execute_result"
    }
   ],
   "source": [
    "%pwd"
   ]
  },
  {
   "cell_type": "code",
   "execution_count": 4,
   "metadata": {},
   "outputs": [],
   "source": [
    "from dataclasses import dataclass\n",
    "from pathlib import Path\n",
    "from torch.utils.data import DataLoader\n",
    "\n",
    "@dataclass\n",
    "class data_transformation_config:\n",
    "    root_dir: Path\n",
    "    train_dir: Path\n",
    "    test_dir: Path\n",
    "    batch_size: int\n",
    "    shuffle: bool\n",
    "    color_transform: dict\n",
    "    spatial_transform: dict\n",
    "    normalize_transform: dict\n",
    "    data_loader_params: dict\n",
    "    "
   ]
  },
  {
   "cell_type": "code",
   "execution_count": 8,
   "metadata": {},
   "outputs": [],
   "source": [
    "from Food_Classification.utils.common import read_yaml, create_directory\n",
    "from Food_Classification.constants import *\n",
    "from Food_Classification.config.configuration import DataIngestionConfig\n",
    "class ConfigurationManager:\n",
    "    def __init__(self,\n",
    "                 config_file_path = CONFIG_FILE_PATH,\n",
    "                 params_file_path = PARAMS_FILE_PATH):\n",
    "        \n",
    "        self.config = read_yaml(config_file_path)\n",
    "        self.params = read_yaml(params_file_path)   \n",
    "\n",
    "        create_directory([self.config.artifacts_root])\n",
    "        \n",
    "    def get_data_transform_config(self) -> data_transformation_config:\n",
    "        config = self.config.data_transforms\n",
    "\n",
    "        train_dir = os.path.join(self.config.data_ingestion.unzip_dir,'food_40_percent','train')\n",
    "        test_dir = os.path.join(self.config.data_ingestion.unzip_dir,'food_40_percent','test')\n",
    "        create_directory([config.root_dir])\n",
    "        data_transformation_configuration = data_transformation_config(root_dir= config.root_dir,\n",
    "                                                        train_dir= Path(train_dir),\n",
    "                                                        test_dir= Path(test_dir),\n",
    "                                                        batch_size= self.params.BATCH_SIZE,\n",
    "                                                        shuffle= self.params.SHUFFLE,\n",
    "                                                        color_transform ={'brightness': BRIGHTNESS,\n",
    "                                                                                'contrast': CONTRAST,\n",
    "                                                                                'saturation': SATURATION,\n",
    "                                                                                'hue': HUE},\n",
    "                                                        spatial_transform= {'vertical_flip': VERTICLE_FLIP,\n",
    "                                                                            'resize': RESIZE,\n",
    "                                                                            'center_crop': CENTER_CROP,\n",
    "                                                                            'rotation': RANDOMROTATION\n",
    "                                                                            },\n",
    "                                                        normalize_transform= {'mean': NORMALIZE_MEAN,\n",
    "                                                                                'std': NORMALIZE_STD},\n",
    "                                                        data_loader_params= {\"num_workers\": NUM_WORKERS,\n",
    "                                                                                \"pin_memory\": PIN_MEMORY})\n",
    "        \n",
    "        return data_transformation_configuration\n",
    "    \n"
   ]
  },
  {
   "cell_type": "code",
   "execution_count": 11,
   "metadata": {},
   "outputs": [
    {
     "name": "stdout",
     "output_type": "stream",
     "text": [
      "Overwriting src\\Food_Classification\\components\\data_transformation.py\n"
     ]
    }
   ],
   "source": [
    "%%writefile src\\Food_Classification\\components\\data_transformation.py\n",
    "import os\n",
    "from typing import Tuple\n",
    "import joblib\n",
    "from torch.utils.data import DataLoader, Dataset\n",
    "from torchvision.datasets import ImageFolder\n",
    "from torchvision.transforms import transforms\n",
    "from Food_Classification import logger\n",
    "#from Food_Classification.config.configuration import ConfigurationManager\n",
    "\n",
    "class data_transformation:\n",
    "    def __init__(self, config: data_transformation_config):\n",
    "        self.config = config\n",
    "\n",
    "    def tranform_train_data(self) -> transforms.Compose:\n",
    "        try: \n",
    "            logger.info(\"Transforming train data\")\n",
    "            train_transform: transforms.Compose = transforms.Compose([transforms.Resize(self.config.spatial_transform['resize']),\n",
    "                                                                      transforms.CenterCrop(self.config.spatial_transform['center_crop']),\n",
    "                                                                      transforms.RandomRotation(self.config.spatial_transform['rotation']),\n",
    "                                                                      transforms.RandomVerticalFlip(self.config.spatial_transform['vertical_flip']),\n",
    "                                                                      transforms.ColorJitter(**self.config.color_transform),\n",
    "                                                                      transforms.ToTensor(),\n",
    "                                                                      transforms.Normalize(**self.config.normalize_transform)])\n",
    "            \n",
    "\n",
    "            return train_transform\n",
    "        except Exception as e:\n",
    "            raise e\n",
    "        \n",
    "    def test_transform(self) -> transforms.Compose:\n",
    "        try:\n",
    "            logger.info(\"Transforming test data\")\n",
    "            test_transform: transforms.Compose = transforms.Compose([transforms.Resize(self.config.spatial_transform['resize']),\n",
    "                                                                      transforms.CenterCrop(self.config.spatial_transform['center_crop']),\n",
    "                                                                      transforms.ToTensor(),\n",
    "                                                                      transforms.Normalize(**self.config.normalize_transform)])\n",
    "\n",
    "            return test_transform\n",
    "        \n",
    "        except Exception as e:\n",
    "            raise e\n",
    "\n",
    "\n",
    "    def create_dataloaders(self, train_transform: transforms.Compose, test_transform: transforms.Compose) -> Tuple[DataLoader, DataLoader]:\n",
    "        try:\n",
    "            logger.info(\"creating_dataloaders\")\n",
    "\n",
    "            train_data: Dataset = ImageFolder(root =self.config.train_dir, \n",
    "                                              transform= train_transform)\n",
    "\n",
    "            test_data: Dataset = ImageFolder(root= self.config.test_dir, \n",
    "                                             transform = test_transform)\n",
    "            \n",
    "            class_names: list = train_data.classes\n",
    "\n",
    "            train_dataloader: DataLoader = DataLoader(dataset= train_data,\n",
    "                                                      batch_size= self.config.batch_size,\n",
    "                                                      shuffle = self.config.shuffle,\n",
    "                                                      **self.config.data_loader_params)\n",
    "            \n",
    "            test_dataloader: DataLoader = DataLoader(dataset= test_data,\n",
    "                                                      batch_size= self.config.batch_size,\n",
    "                                                      shuffle = False,\n",
    "                                                      **self.config.data_loader_params)\n",
    "            \n",
    "            logger.info('DataLoaders created')\n",
    "            return train_dataloader, test_dataloader, class_names\n",
    "        \n",
    "        except Exception as e:\n",
    "            raise e\n",
    "    \n",
    "        \n",
    "    def initiate_data_transformation(self):\n",
    "        try:\n",
    "            logger.info(\"Initiating data transformation\")\n",
    "\n",
    "            train_transform: transforms.Compose = self.tranform_train_data()\n",
    "\n",
    "            test_transform: transforms.Compose = self.test_transform()\n",
    "\n",
    "            train_transform_filename = os.path.join(self.config.root_dir, \"train_transforms.pkl\")  # Create filename with path and extension\n",
    "            test_transform_filename = os.path.join(self.config.root_dir, \"test_transforms.pkl\")\n",
    "\n",
    "            joblib.dump(train_transform, train_transform_filename)\n",
    "            joblib.dump(test_transform, test_transform_filename)\n",
    "\n",
    "\n",
    "            train_dataloader, test_dataloader, class_name = self.create_dataloaders(train_transform=train_transform, test_transform=test_transform)\n",
    "\n",
    "            return train_dataloader, test_dataloader, class_name\n",
    "        \n",
    "        except Exception as e:\n",
    "            raise e\n"
   ]
  },
  {
   "cell_type": "code",
   "execution_count": 10,
   "metadata": {},
   "outputs": [
    {
     "name": "stdout",
     "output_type": "stream",
     "text": [
      "[2024-05-06 11:28:13,683: INFO: common: yaml file config\\config.yaml loaded successfully]\n",
      "[2024-05-06 11:28:13,686: INFO: common: yaml file params.yaml loaded successfully]\n",
      "[2024-05-06 11:28:13,687: INFO: common: directory artifacts created successfully]\n",
      "[2024-05-06 11:28:13,689: INFO: common: directory artifacts/data_transforms created successfully]\n",
      "[2024-05-06 11:28:13,689: INFO: 1055517447: Initiating data transformation]\n",
      "[2024-05-06 11:28:13,690: INFO: 1055517447: Transforming train data]\n",
      "[2024-05-06 11:28:13,691: INFO: 1055517447: Transforming test data]\n",
      "[2024-05-06 11:28:13,697: INFO: 1055517447: creating_dataloaders]\n",
      "[2024-05-06 11:28:13,733: INFO: 1055517447: DataLoaders created]\n"
     ]
    }
   ],
   "source": [
    "# Assuming CONFIG_FILE_PATH points to the correct location of 'confi.yaml'\n",
    "config = ConfigurationManager(config_file_path=CONFIG_FILE_PATH)\n",
    "\n",
    "transformation_config = config.get_data_transform_config()\n",
    "transform = data_transformation(config=transformation_config)\n",
    "train_dataloader, test_dataloader, class_names = transform.initiate_data_transformation()"
   ]
  },
  {
   "cell_type": "code",
   "execution_count": null,
   "metadata": {},
   "outputs": [],
   "source": []
  }
 ],
 "metadata": {
  "kernelspec": {
   "display_name": "Food",
   "language": "python",
   "name": "python3"
  },
  "language_info": {
   "codemirror_mode": {
    "name": "ipython",
    "version": 3
   },
   "file_extension": ".py",
   "mimetype": "text/x-python",
   "name": "python",
   "nbconvert_exporter": "python",
   "pygments_lexer": "ipython3",
   "version": "3.8.0"
  }
 },
 "nbformat": 4,
 "nbformat_minor": 2
}
