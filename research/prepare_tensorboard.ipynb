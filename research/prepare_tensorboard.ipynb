{
 "cells": [
  {
   "cell_type": "code",
   "execution_count": 1,
   "metadata": {},
   "outputs": [],
   "source": [
    "import os"
   ]
  },
  {
   "cell_type": "code",
   "execution_count": 2,
   "metadata": {},
   "outputs": [
    {
     "data": {
      "text/plain": [
       "'c:\\\\Users\\\\49179\\\\Desktop\\\\Food_image_classification\\\\research'"
      ]
     },
     "execution_count": 2,
     "metadata": {},
     "output_type": "execute_result"
    }
   ],
   "source": [
    "%pwd"
   ]
  },
  {
   "cell_type": "code",
   "execution_count": 3,
   "metadata": {},
   "outputs": [],
   "source": [
    "os.chdir(\"../\")"
   ]
  },
  {
   "cell_type": "code",
   "execution_count": 4,
   "metadata": {},
   "outputs": [
    {
     "data": {
      "text/plain": [
       "'c:\\\\Users\\\\49179\\\\Desktop\\\\Food_image_classification'"
      ]
     },
     "execution_count": 4,
     "metadata": {},
     "output_type": "execute_result"
    }
   ],
   "source": [
    "%pwd"
   ]
  },
  {
   "cell_type": "code",
   "execution_count": 5,
   "metadata": {},
   "outputs": [],
   "source": [
    "from dataclasses import dataclass\n",
    "from pathlib import Path\n",
    "\n",
    "@dataclass(frozen =True)\n",
    "class preparetensorboardconfig:\n",
    "    root_dir: Path\n",
    "    tensorboard_root_log_dir: Path\n",
    "    experiment_name: str\n",
    "    model_name:str\n",
    "    epochs: int"
   ]
  },
  {
   "cell_type": "code",
   "execution_count": 6,
   "metadata": {},
   "outputs": [],
   "source": [
    "from Food_Classification.utils.common import read_yaml, create_directory\n",
    "from Food_Classification.constants import *\n",
    "\n",
    "class ConfigurationManager:\n",
    "    def __init__(self,\n",
    "                 config_file_path = CONFIG_FILE_PATH,\n",
    "                 params_file_path = PARAMS_FILE_PATH):\n",
    "        self.config = read_yaml(config_file_path)\n",
    "        self.params = read_yaml(params_file_path)\n",
    "\n",
    "        create_directory([self.config.artifacts_root])\n",
    "\n",
    "    def get_tensorboard_config(self) -> preparetensorboardconfig:\n",
    "\n",
    "            config = self.config.prepare_tensorboard\n",
    "            create_directory([config.tensorboard_root_log_dir])\n",
    "\n",
    "            prepare_tensorboard_config = preparetensorboardconfig(root_dir = config.root_dir,\n",
    "                                                            tensorboard_root_log_dir = config.tensorboard_root_log_dir,\n",
    "                                                            experiment_name = self.params.EXPERIMENT_NAME,\n",
    "                                                            model_name = self.params.MODEL_NAME,\n",
    "                                                            epochs = self.params.EPOCHS\n",
    "                                                            )\n",
    "            \n",
    "            return prepare_tensorboard_config"
   ]
  },
  {
   "cell_type": "code",
   "execution_count": 7,
   "metadata": {},
   "outputs": [
    {
     "name": "stdout",
     "output_type": "stream",
     "text": [
      "Overwriting src/Food_Classification/components/tensorboard.py\n"
     ]
    }
   ],
   "source": [
    "%%writefile src/Food_Classification/components/tensorboard.py\n",
    "from torch.utils.tensorboard import SummaryWriter\n",
    "import os\n",
    "from datetime import datetime\n",
    "from Food_Classification.entity.config_entity import preparetensorboardconfig\n",
    "\n",
    "class preparetensorboard:\n",
    "    def __init__(self, config: preparetensorboardconfig):\n",
    "        self.config = config\n",
    "\n",
    "    def create_summary_writer(self,experiment_name, model_name, extra: str = None) -> SummaryWriter:\n",
    "        now = datetime.now()\n",
    "        timestamp = now.strftime(\"%Y%m%d-%H%M\")\n",
    "\n",
    "        if extra:\n",
    "            log_dir = os.path.join(self.config.tensorboard_root_log_dir, timestamp, experiment_name, model_name,extra)\n",
    "        else:\n",
    "            log_dir = os.path.join(self.config.tensorboard_root_log_dir, timestamp, experiment_name, model_name)\n",
    "\n",
    "        return SummaryWriter(log_dir= log_dir)\n",
    "    \n",
    "    def get_summary_writer(self):\n",
    "        self.summary = self.create_summary_writer(experiment_name=self.config.experiment_name,\n",
    "                                                  model_name= self.config.model_name,\n",
    "                                                  extra= f\"{self.config.epochs} epochs\")\n",
    "        \n",
    "        return self.summary"
   ]
  },
  {
   "cell_type": "code",
   "execution_count": 8,
   "metadata": {},
   "outputs": [
    {
     "name": "stdout",
     "output_type": "stream",
     "text": [
      "[2024-05-03 08:53:48,108: INFO: common: yaml file config\\config.yaml loaded successfully]\n",
      "[2024-05-03 08:53:48,111: INFO: common: yaml file params.yaml loaded successfully]\n",
      "[2024-05-03 08:53:48,112: INFO: common: directory artifacts created successfully]\n",
      "[2024-05-03 08:53:48,113: INFO: common: directory artifacts/prepare_tensorboard/tensorboard_log_dir created successfully]\n"
     ]
    },
    {
     "ename": "NameError",
     "evalue": "name 'preparetensorboard' is not defined",
     "output_type": "error",
     "traceback": [
      "\u001b[1;31m---------------------------------------------------------------------------\u001b[0m",
      "\u001b[1;31mNameError\u001b[0m                                 Traceback (most recent call last)",
      "Cell \u001b[1;32mIn[8], line 7\u001b[0m\n\u001b[0;32m      5\u001b[0m     summary_writer \u001b[38;5;241m=\u001b[39m tensorboard\u001b[38;5;241m.\u001b[39mget_summary_writer()\n\u001b[0;32m      6\u001b[0m \u001b[38;5;28;01mexcept\u001b[39;00m \u001b[38;5;167;01mException\u001b[39;00m \u001b[38;5;28;01mas\u001b[39;00m e:\n\u001b[1;32m----> 7\u001b[0m     \u001b[38;5;28;01mraise\u001b[39;00m e\n",
      "Cell \u001b[1;32mIn[8], line 4\u001b[0m\n\u001b[0;32m      2\u001b[0m     config \u001b[38;5;241m=\u001b[39m ConfigurationManager()\n\u001b[0;32m      3\u001b[0m     tensorboard_config \u001b[38;5;241m=\u001b[39m config\u001b[38;5;241m.\u001b[39mget_tensorboard_config()\n\u001b[1;32m----> 4\u001b[0m     tensorboard \u001b[38;5;241m=\u001b[39m \u001b[43mpreparetensorboard\u001b[49m(tensorboard_config)\n\u001b[0;32m      5\u001b[0m     summary_writer \u001b[38;5;241m=\u001b[39m tensorboard\u001b[38;5;241m.\u001b[39mget_summary_writer()\n\u001b[0;32m      6\u001b[0m \u001b[38;5;28;01mexcept\u001b[39;00m \u001b[38;5;167;01mException\u001b[39;00m \u001b[38;5;28;01mas\u001b[39;00m e:\n",
      "\u001b[1;31mNameError\u001b[0m: name 'preparetensorboard' is not defined"
     ]
    }
   ],
   "source": [
    "try:\n",
    "    config = ConfigurationManager()\n",
    "    tensorboard_config = config.get_tensorboard_config()\n",
    "    tensorboard = preparetensorboard(tensorboard_config)\n",
    "    summary_writer = tensorboard.get_summary_writer()\n",
    "except Exception as e:\n",
    "    raise e"
   ]
  },
  {
   "cell_type": "code",
   "execution_count": null,
   "metadata": {},
   "outputs": [],
   "source": []
  }
 ],
 "metadata": {
  "kernelspec": {
   "display_name": "Food",
   "language": "python",
   "name": "python3"
  },
  "language_info": {
   "codemirror_mode": {
    "name": "ipython",
    "version": 3
   },
   "file_extension": ".py",
   "mimetype": "text/x-python",
   "name": "python",
   "nbconvert_exporter": "python",
   "pygments_lexer": "ipython3",
   "version": "3.8.0"
  }
 },
 "nbformat": 4,
 "nbformat_minor": 2
}
